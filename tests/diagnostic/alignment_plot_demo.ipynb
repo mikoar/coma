{
 "cells": [
  {
   "cell_type": "code",
   "execution_count": 1,
   "metadata": {
    "collapsed": true
   },
   "outputs": [],
   "source": [
    "#@formatter:off\n",
    "%load_ext autoreload\n",
    "%autoreload 2\n",
    "#@formatter:on\n",
    "\n",
    "from src.alignment.alignment_position import ScoredAlignedPair, AlignedPair, NotAlignedQueryPosition\n",
    "from src.alignment.alignment_position import ScoredNotAlignedPosition, NotAlignedReferencePosition\n",
    "from src.alignment.alignment_results import AlignmentResultRow\n",
    "from src.alignment.segments import AlignmentSegment\n",
    "from src.correlation.bionano_alignment import BionanoAlignment\n",
    "from src.correlation.optical_map import OpticalMap, PositionWithSiteId, InitialAlignment\n",
    "from src.correlation.peak import Peak\n",
    "from src.diagnostic.alignment_plot import AlignmentPlot"
   ]
  },
  {
   "cell_type": "code",
   "execution_count": null,
   "outputs": [],
   "source": [
    "\n",
    "\n",
    "from src.diagnostic.xmap_alignment import XmapAlignedPair, XmapAlignmentPosition\n",
    "\n",
    "\n",
    "class MockCorrelation(InitialAlignment):\n",
    "    def __init__(self):\n",
    "        super().__init__(None, None, None, None, None, None)\n",
    "\n",
    "    def __post_init__(self):\n",
    "        pass\n",
    "\n",
    "    @property\n",
    "    def maxPeak(self):\n",
    "        return Peak(1000, 100., 0, 1800)\n",
    "\n",
    "\n",
    "reference = OpticalMap(1, 80000,\n",
    "                       [500, 1000, 4000, 4300, 4600, 6000, 8200, 10000, 13000, 14000, 20000, 20500, 21000, 21500,\n",
    "                        40000, 80000])\n",
    "query = OpticalMap(100, 32000, [30, 10100, 10400, 10600, 12000, 20000, 21000, 22000, 26000, 27000, 27500, 32000])\n",
    "alignment = AlignmentResultRow([\n",
    "    AlignmentSegment([\n",
    "        ScoredNotAlignedPosition(NotAlignedQueryPosition(PositionWithSiteId(1, 30), 4000), -100.),\n",
    "        ScoredAlignedPair(AlignedPair(PositionWithSiteId(3, 4000), PositionWithSiteId(2, 10100)), 100.),\n",
    "        ScoredAlignedPair(AlignedPair(PositionWithSiteId(4, 4300), PositionWithSiteId(3, 10400)), 100.),\n",
    "        ScoredAlignedPair(AlignedPair(PositionWithSiteId(5, 4600), PositionWithSiteId(4, 10600)), 50.),\n",
    "        ScoredAlignedPair(AlignedPair(PositionWithSiteId(6, 6000), PositionWithSiteId(5, 12000)), 50.)], 300.,\n",
    "        Peak(30, 100, 5, 40)),\n",
    "    AlignmentSegment([\n",
    "        ScoredNotAlignedPosition(NotAlignedReferencePosition(PositionWithSiteId(8, 10000)), -100),\n",
    "        ScoredAlignedPair(AlignedPair(PositionWithSiteId(9, 13000), PositionWithSiteId(6, 20000)), 152.),\n",
    "        ScoredAlignedPair(AlignedPair(PositionWithSiteId(10, 14000), PositionWithSiteId(7, 21000)), 143.),\n",
    "        ScoredNotAlignedPosition(NotAlignedQueryPosition(PositionWithSiteId(8, 22000), 4000), -100.)], 100.,\n",
    "        Peak(30, 100, 5, 40)),\n",
    "    AlignmentSegment([\n",
    "        ScoredAlignedPair(AlignedPair(PositionWithSiteId(11, 20000), PositionWithSiteId(9, 26000)), 100.),\n",
    "        ScoredNotAlignedPosition(NotAlignedReferencePosition(PositionWithSiteId(11, 20500)), -100),\n",
    "        ScoredAlignedPair(AlignedPair(PositionWithSiteId(13, 21000), PositionWithSiteId(10, 27000)), 100.),\n",
    "        ScoredAlignedPair(AlignedPair(PositionWithSiteId(14, 21500), PositionWithSiteId(11, 27500)), 100.)], 200.,\n",
    "        Peak(4900, 70, 4700, 5200))],\n",
    "    queryStartPosition=10100, queryEndPosition=27500, referenceStartPosition=4000, referenceEndPosition=21500,\n",
    "    queryLength=query.length, referenceLength=reference.length)\n",
    "benchmarkAlignment = BionanoAlignment(123, 100, 1, 20000, 22000, 6000, 10000, False, 567, \"\", 32000, 80000, [\n",
    "    XmapAlignedPair(XmapAlignmentPosition(6, 6000), XmapAlignmentPosition(6, 20000)),\n",
    "    XmapAlignedPair(XmapAlignmentPosition(7, 8200), XmapAlignmentPosition(7, 21000)),\n",
    "    XmapAlignedPair(XmapAlignmentPosition(8, 10000), XmapAlignmentPosition(8, 22000)),\n",
    "])\n",
    "plot = AlignmentPlot(reference, query, alignment, MockCorrelation(), benchmarkAlignment)"
   ],
   "metadata": {
    "collapsed": false,
    "pycharm": {
     "name": "#%%\n",
     "is_executing": true
    }
   }
  }
 ],
 "metadata": {
  "kernelspec": {
   "display_name": "Python 3",
   "language": "python",
   "name": "python3"
  },
  "language_info": {
   "codemirror_mode": {
    "name": "ipython",
    "version": 2
   },
   "file_extension": ".py",
   "mimetype": "text/x-python",
   "name": "python",
   "nbconvert_exporter": "python",
   "pygments_lexer": "ipython2",
   "version": "2.7.6"
  }
 },
 "nbformat": 4,
 "nbformat_minor": 0
}